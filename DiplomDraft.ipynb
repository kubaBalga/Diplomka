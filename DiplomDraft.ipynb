{
  "cells": [
    {
      "cell_type": "markdown",
      "metadata": {
        "id": "view-in-github",
        "colab_type": "text"
      },
      "source": [
        "<a href=\"https://colab.research.google.com/github/kubaBalga/Diplomka/blob/master/DiplomDraft.ipynb\" target=\"_parent\"><img src=\"https://colab.research.google.com/assets/colab-badge.svg\" alt=\"Open In Colab\"/></a>"
      ]
    },
    {
      "cell_type": "markdown",
      "source": [
        "Necessary imports"
      ],
      "metadata": {
        "id": "z-f4bn8_MdEy"
      }
    },
    {
      "cell_type": "code",
      "source": [
        "import numpy as np\n",
        "import matplotlib.pyplot as plt\n",
        "from PIL import Image\n",
        "from skimage import io\n",
        "from skimage.color import label2rgb\n",
        "from skimage.color.colorlabel import rgb2gray\n",
        "from skimage.segmentation import slic\n",
        "from skimage.segmentation import mark_boundaries\n",
        "from skimage.util import img_as_float"
      ],
      "metadata": {
        "id": "bTH99lhfJx1h"
      },
      "execution_count": 13,
      "outputs": []
    },
    {
      "cell_type": "markdown",
      "source": [
        "Get 256 shades of gray (in RGB format), randomly ordered\n",
        "\n",
        "Intensity is scaled into interval [0, 1)"
      ],
      "metadata": {
        "id": "4QIX2TR0J7-w"
      }
    },
    {
      "cell_type": "code",
      "execution_count": 14,
      "metadata": {
        "id": "k2dY2sNnBUmg"
      },
      "outputs": [],
      "source": [
        "def get_random_grayscale():\n",
        "  random_colors = []\n",
        "  for i in range(256):\n",
        "    brightness = ((i * 7229) % 256) / 256\n",
        "    random_colors.append((brightness, brightness, brightness))\n",
        "  return random_colors"
      ]
    },
    {
      "cell_type": "markdown",
      "source": [
        "Show calculated layer as grayscale image, save both image and numeric map"
      ],
      "metadata": {
        "id": "VVTFfSXgX0nH"
      }
    },
    {
      "cell_type": "code",
      "source": [
        "def show_and_save(layer_image, layer_map, layer_index):\n",
        "    # plot\n",
        "    fig_0 = plt.figure(\"Layer \" + str(layer_index))\n",
        "    fig_0.add_subplot().imshow(layer_image)\n",
        "    plt.axis(\"off\")\n",
        "\n",
        "    # save image\n",
        "    pil_image = Image.fromarray(obj=layer_image, mode=\"L\")\n",
        "    pil_image.save(\"segmentation_\" + str(layer_index) + \".png\")\n",
        "\n",
        "    # save numeric map\n",
        "    numeric_map = layer_map.tobytes()\n",
        "    with open(\"segmentation_\" + str(layer_index) + \".bin\", \"wb\") as binary_file:\n",
        "        binary_file.write(numeric_map)"
      ],
      "metadata": {
        "id": "ZZqtfMBLWmYq"
      },
      "execution_count": 15,
      "outputs": []
    },
    {
      "cell_type": "markdown",
      "source": [
        "Normalize numbering of segments to continuous - necessary for import"
      ],
      "metadata": {
        "id": "yGHTxKHMqvU1"
      }
    },
    {
      "cell_type": "code",
      "source": [
        "def normalize(map):\n",
        "    normalization_dictionary = {}\n",
        "    last_number = 0\n",
        "    for i in range(map.shape[0]):\n",
        "        for j in range(map.shape[1]):\n",
        "            if map[i, j] not in normalization_dictionary:\n",
        "                normalization_dictionary[map[i, j]] = last_number\n",
        "                print(map[i, j], last_number)\n",
        "                last_number += 1\n",
        "            map[i, j] = normalization_dictionary[map[i, j]]\n",
        "    print(\"------------\")"
      ],
      "metadata": {
        "id": "j-3g-igfLiaQ"
      },
      "execution_count": 20,
      "outputs": []
    },
    {
      "cell_type": "markdown",
      "source": [
        "Create hierarchical SLIC segmentation of input image\n",
        "- Input: Path to 8-bit grayscale image, with resolution 768*512\n",
        "- Effect: Creation of 7 segmentation maps (segmentation_0.bin - segmentation_6.bin), with corresponding map images\n"
      ],
      "metadata": {
        "id": "ohKcQoV7KCTe"
      }
    },
    {
      "cell_type": "code",
      "source": [
        "def calculate_subsegments(image, parental_map, seg_count, compactness, slic_zero):\n",
        "    child_map = np.array([[0] * parental_map.shape[1] for i in range(parental_map.shape[0])], dtype=np.uint32)\n",
        "    for segment_idx in range(0, seg_count):\n",
        "      segment_mask = parental_map == segment_idx\n",
        "      if (np.count_nonzero(segment_mask) == 0):\n",
        "        continue\n",
        "      # higher level of noise - increase compactness\n",
        "      temp = slic(image, n_segments = 4, sigma = 5, compactness = compactness, mask = segment_mask, slic_zero=slic_zero).astype(np.uint32)\n",
        "      for i in range(len(temp)):\n",
        "        for j in range(len(temp[i])):\n",
        "          # for each segmented subsegment, add offset for total numbering\n",
        "          if temp[i][j] != 0:\n",
        "            temp[i][j] += 4 * segment_idx - 1\n",
        "      child_map += temp\n",
        "    normalize(child_map)\n",
        "    layer_image = np.round(rgb2gray(label2rgb(child_map, colors = get_random_grayscale())) * 256).astype(np.uint8)\n",
        "    return child_map, layer_image"
      ],
      "metadata": {
        "id": "enGpTb1faqYO"
      },
      "execution_count": 17,
      "outputs": []
    },
    {
      "cell_type": "code",
      "execution_count": 18,
      "metadata": {
        "id": "Uvhg6Cei0QoR"
      },
      "outputs": [],
      "source": [
        "def make_segmentation(image_source):\n",
        "    # load the image and convert it to a floating point data type\n",
        "    image = img_as_float(io.imread(image_source))\n",
        "\n",
        "    # calculate initial segments\n",
        "    map_0 = slic(image, n_segments = 6, sigma = 5, compactness = 0.03, slic_zero=False).astype(np.uint32)\n",
        "    layer_image = np.round(rgb2gray(label2rgb(map_0, colors = get_random_grayscale())) * 256).astype(np.uint8)\n",
        "    show_and_save(layer_image, map_0, 0)\n",
        "\n",
        "    # calculate 1-ary segments\n",
        "    map_1, layer_image = calculate_subsegments(image, map_0, 6, 0.3, False)\n",
        "    show_and_save(layer_image, map_1, 1)\n",
        "\n",
        "    # calculate 2-ary segments\n",
        "    map_2, layer_image = calculate_subsegments(image, map_1, 24, 1, True)\n",
        "    show_and_save(layer_image, map_2, 2)\n",
        "\n",
        "    # calculate 3-ary segments\n",
        "    map_3, layer_image = calculate_subsegments(image, map_2, 96, 1, True)\n",
        "    show_and_save(layer_image, map_3, 3)\n",
        "\n",
        "    # calculate 4-ary segments\n",
        "    map_4, layer_image = calculate_subsegments(image, map_3, 384, 1, True)\n",
        "    show_and_save(layer_image, map_4, 4)\n",
        "\n",
        "    # calculate 5-ary segments\n",
        "    map_5, layer_image = calculate_subsegments(image, map_4, 1536, 1, True)\n",
        "    show_and_save(layer_image, map_5, 5)\n",
        "\n",
        "    # calculate 6-ary segments\n",
        "    map_6, layer_image = calculate_subsegments(image, map_5, 6144, 1, True)\n",
        "    show_and_save(layer_image, map_6, 6)"
      ]
    },
    {
      "cell_type": "code",
      "source": [
        "make_segmentation(\"image.png\")"
      ],
      "metadata": {
        "id": "_VJgSSLMLs_y"
      },
      "execution_count": null,
      "outputs": []
    }
  ],
  "metadata": {
    "colab": {
      "collapsed_sections": [],
      "provenance": [],
      "authorship_tag": "ABX9TyPuB9X91lVAjueIO9dkY8ip",
      "include_colab_link": true
    },
    "kernelspec": {
      "display_name": "Python 3",
      "name": "python3"
    },
    "language_info": {
      "name": "python"
    }
  },
  "nbformat": 4,
  "nbformat_minor": 0
}